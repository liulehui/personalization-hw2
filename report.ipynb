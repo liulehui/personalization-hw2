{
 "cells": [
  {
   "cell_type": "markdown",
   "metadata": {},
   "source": [
    "# Personalization: Theory & Application\n",
    "\n",
    "### Homework 2 Report\n",
    "####  Name: Lehui Liu ( ll3238 ), Yinheng Li ( yl4039 )"
   ]
  },
  {
   "cell_type": "markdown",
   "metadata": {},
   "source": [
    "## 1. Introduction\n",
    "Steam is a popular gaming platform developed by Valve Corporation for purchasing and playing video games. In this project, we are trying to build a recommendation system for Steam based on a dataset containing users’ shopping and gaming history. The goal of this recommendation system is to help Steam platform better place advertisements for target users. In the meantime, it can also help Steam users discover new video games to their taste. Furthermore, we hope our model can provide some insights of user preference and clustering in their choices of games."
   ]
  },
  {
   "cell_type": "markdown",
   "metadata": {},
   "source": [
    "## 2. Dataset Overview\n",
    "The dataset is stored in json format, and here is a glimpse of the dataset:  \n",
    "{'user_id': '76561197970982479', \n",
    "'items_count': 2, \n",
    "'steam_id': '76561197970982479', \n",
    "'user_url': 'http://steamcommunity.com/profiles/76561197970982479', \n",
    "'items': [{'item_id': '10', 'item_name': 'Counter-Strike', 'playtime_forever': 6, 'playtime_2weeks': 0}, {'item_id': '20', 'item_name': 'Team Fortress Classic', 'playtime_forever': 0, 'playtime_2weeks': 0}} "
   ]
  },
  {
   "cell_type": "markdown",
   "metadata": {},
   "source": [
    "This dataset contains 10978 users, 70912 items and 5153209 purchase & gaming records in total. To load the dataset, we need to reorganize it into user-item pairs. Since user_id and item_id is unique, we consider “steam_id”, “user_url” and “item_name” as redundant information and we exclude them. Meanwhile, we reassign an ID to each user and item to avoid IDs being too sparse. Here is what our data look like after reorganization.\n",
    "<img src = 'img/dataset.png'>"
   ]
  },
  {
   "cell_type": "markdown",
   "metadata": {},
   "source": [
    "For building a simple recommendation model, we only use the record user-item pairs rather than their specific playing times. Then our data looks like this:\n",
    "<img src='img/datahead.png'>"
   ]
  },
  {
   "cell_type": "markdown",
   "metadata": {},
   "source": [
    "Due to the limitation of our computing power, we can only work on a small sample of the dataset. So, we sample 3000 users (out of 10978) in random from the original dataset, and this new dataset ends up being the exact dataset we use in our model.   \n",
    "Next, we are going to user two different approaches to build the recommendation system: \n",
    "1. Memory based: K-Nearest Neighbor ( Please see KNN.ipynb in the repo)   \n",
    "2. Model based: Matrix Factorization ( Please see MF.ipydb in the repo )  \n",
    "\n",
    "Then we compare the performance of these two approaches and discuss the drawbacks of each model.\n"
   ]
  },
  {
   "cell_type": "markdown",
   "metadata": {},
   "source": [
    "## 3. KNN\n",
    "### 3.1 Model setup"
   ]
  },
  {
   "cell_type": "markdown",
   "metadata": {},
   "source": [
    "Given a dataset for user-item pairs, it is easy to come up with a memory-based collaborative filtering model. In this project, I am going to make users as vectors, and calculate the similarity between each user vectors. A sparse matrix containing user vectors may look like this:"
   ]
  },
  {
   "cell_type": "markdown",
   "metadata": {},
   "source": [
    "|  | Item 1 | Item 2 | Item 3 | ··· | Item M|\n",
    "| --- | --- | --- | --- | --- | --- |\n",
    "| User 1 |  0  |  1  |  0  |  ···  |  1  |\n",
    "| User 2 |  0  |  1  |  0  |  ···  |  1  |\n",
    "|  ···   |  0  |  1  |  0  |  ···  |  1  |\n",
    "| User N |  0  |  1  |  0  |  ···  |  1  |"
   ]
  },
  {
   "attachments": {
    "image.png": {
     "image/png": "[encoded data removed]"
    }
   },
   "cell_type": "markdown",
   "metadata": {},
   "source": [
    "If user i has consumed item j, the (i, j)th entry in the matrix will be 1, otherwise 0. This matrix is very sparse, so we store it using package “scipy.sparse”. The similarity of user vectors is defined to be the cosine between two vectors:  \n",
    "![image.png](attachment:image.png)"
   ]
  },
  {
   "cell_type": "markdown",
   "metadata": {},
   "source": [
    "Based on the similarity between each vector, the predicted value for user u at item t is calculated using the following formula:  \n",
    "$${\\hat{r}}_{ut}=\\frac{\\sum_{i\\in u}\\left(Sim{\\left(i,t\\right)\\cdot r_{it}}\\right)}{\\sum_{i\\in u}\\left|Sim{\\left(i,t\\right)}\\right|}$$"
   ]
  },
  {
   "cell_type": "markdown",
   "metadata": {},
   "source": [
    "  \n",
    "Since the value in the matrix can either be 1 or 0, we set a benchmark for $\\hat{r}_{ut}$. If $\\hat{r}_{ut}$ > benchmark, let $\\hat{r}_{ut}$ = 1, otherwise 0. The benchmark value has to be between 0 and 1. When the benchmark is close to 0, our prediction is very aggressive. As long as there is a small probability that the user like the item, we recommend it immediately. On the other hand, then the benchmark is close to 1, our prediction is very conservative, we only recommend items we are very sure that the user will like. We expect that a small benchmark will produce a high recall while a large benchmark will produce a high precision. Since the user matrix is extremely sparse and most of our prediction end up being 0, there is no point choosing a fixed N items for recommendation. However, the benchmark can be used as a flexible hyperparameter to adjust our recommendation size. In the next section, we will present how this hyperparameter influence the model performance."
   ]
  },
  {
   "cell_type": "markdown",
   "metadata": {},
   "source": [
    "### 3.2 Model Evaluation"
   ]
  },
  {
   "cell_type": "markdown",
   "metadata": {},
   "source": [
    "To evaluate the model, we use Monte Carlo cross-validation. Each time we sample 70% item from each user as the training data, and the left 30% is the testing data. We report the following parameters in each round of cross-validation, and they are defined as below:"
   ]
  },
  {
   "cell_type": "markdown",
   "metadata": {},
   "source": [
    "let S(t) be the set of t recommended items for a user u, G be the true relevant set that was consumed, T be the true relevant training set for this user:"
   ]
  },
  {
   "cell_type": "markdown",
   "metadata": {},
   "source": [
    "Error: $$e_u=1-\\frac{|\\left(s\\left(t\\right)\\setminus T\\right)\\cap G|}{|\\left(s\\left(t\\right)\\setminus T\\right)\\cup G|}$$\n",
    "\n",
    "Precision: $$ P_u=\\frac{|\\left(s\\left(t\\right)\\setminus T\\right)\\cap G|}{|\\left(s\\left(t\\right)\\setminus T\\right)|}$$\n",
    "\n",
    "Recall: $$R_u=\\frac{|\\left(s\\left(t\\right)\\setminus T\\right)\\cap G|}{|G|}$$\n",
    "\n",
    "Coverage:  $$C_u=1_{\\left|\\left(s\\left(t\\right)\\setminus T\\right)\\cap G\\right|\\geq k}$$\n"
   ]
  },
  {
   "cell_type": "markdown",
   "metadata": {},
   "source": [
    "For the entire training set, we simply calculate the average of precision, recall and coverage. We also calculate the RMSE based on each user. While doing cross validation, we also change different benchmarks. Here’s the result for 5 rounds validation with benchmark from 0 to 0.5."
   ]
  },
  {
   "cell_type": "markdown",
   "metadata": {},
   "source": [
    "<img src = 'img/samplesize.png'>\n",
    "<img src = 'img/trainresult.png'>\n",
    "<img src = 'img/trainplot.png'>"
   ]
  },
  {
   "cell_type": "markdown",
   "metadata": {},
   "source": [
    "As can be seen, a lower benchmark produces a higher recall and coverage while a higher benchmark produces a higher precision. This observation confirms our previous expectation. The best recall and precision value are around 0.5, which is acceptable. However, the RMSE is very large which indicates that the model can be improved. This graph also suggests us to take a benchmark=0.2 to get a relatively small error. Surprisingly, at this benchmark the precision curve and the recall curve cross each other. So, choosing this point we will get a rather moderate recall and precision. "
   ]
  },
  {
   "cell_type": "markdown",
   "metadata": {},
   "source": [
    "In terms of scaling, we produce the following three graphs with user size=30, 300, 3000:"
   ]
  },
  {
   "cell_type": "markdown",
   "metadata": {},
   "source": [
    "Usersize = 30:\n",
    "<img src = 'img/usersize30.png'>\n",
    "Usersize = 300:\n",
    "<img src = 'img/usersize300.png'>\n",
    "Usersize = 3000:\n",
    "<img src = 'img/usersize3000.png'>"
   ]
  },
  {
   "cell_type": "markdown",
   "metadata": {},
   "source": [
    "As can be seen from these three graphs, when the size of user varies, the main pattern of the model performance remains the same, which means the overall accuracy remains the same. However, as the size of user getting larger and larger, all the curves in the graph becomes smoother and smoother. In addition, the running time also increases with the increase of sample size."
   ]
  },
  {
   "cell_type": "markdown",
   "metadata": {},
   "source": [
    "### 3.3 Potential Improvent"
   ]
  },
  {
   "cell_type": "markdown",
   "metadata": {},
   "source": [
    "There are many changes we can make to improve the model. Some of them will be implemented in our final project. For this specific model, we can change the way we calculate similarity. Instead of using cosine similarity, we can learn the similarity based on the training sample. Meanwhile, user vectors are very sparse in our dataset. So, we can change to using item as a vector, which may produce better results. For a more general model, we can use the “playtime” feature provided in the original dataset. In this case, we can weight more on items (games) that the player spends more time on, and we can produce a ranked recommendation. "
   ]
  },
  {
   "cell_type": "markdown",
   "metadata": {},
   "source": [
    "## 4. Matrix Factorization\n",
    "### 4.1 Model Setup\n",
    "We resample the data through randomly choose a unique user set of 20000 users and a unique item set of 150 items. Then the sample should be the intersection of these two sets. It turns out that we have 10692 users and 130 items. \n",
    "Thus the size of the sparse matrix we use is of 10692 * 130 with 26592 stored elements.\n",
    "At first, we choose latent dimension equals 50. \n",
    "We adopt SVD in scipy package as our matrix factorization algrithm.\n",
    "Thus, the dimension of item_factor and user_factor we get after factorization is (50, 130)\n",
    "(10692, 50).\n"
   ]
  },
  {
   "cell_type": "markdown",
   "metadata": {},
   "source": [
    "### 4.2 Model Evaluation\n",
    "For cross validation, we run a 5-fold CV. We first randomly split the dataset into 5 parts of the same size. During each time, we use a part as the validation set and the remaining 4 parts as the training set.\n",
    "For the training metrics, we adopt **Recall** and **Precision** as our metrics.\n"
   ]
  },
  {
   "cell_type": "markdown",
   "metadata": {},
   "source": [
    "### 4.3 Hyper parameters"
   ]
  },
  {
   "cell_type": "markdown",
   "metadata": {},
   "source": [
    "For hyper parameters in this algorithms, we have the latent dimension, the Top **K** elements we recommend to the user and the sample size. We systematically choose a set of hyper parameters to do the cross validation.\n",
    "In the following setting, we recommend the top 10 items related to the user,i.e. **K** = 10.\n"
   ]
  },
  {
   "cell_type": "markdown",
   "metadata": {},
   "source": [
    "For hyper parameters in this algorithms, we have the latent dimension, the Top K elements we recommend to the user and the sample size. We systematically choose a set of hyper parameters to do the cross validation.\n",
    "In the following setting, we recommend the top 10 items related to the user.\n"
   ]
  },
  {
   "cell_type": "markdown",
   "metadata": {},
   "source": [
    "First, we choose a set of latent dimenison of (1,2,3,4,5,6,7,8,9,10,15,20) as the latent dimension.\n",
    "we then plot the result.  \n",
    "<img src = 'img/item120.png'>\n",
    "\n"
   ]
  },
  {
   "cell_type": "markdown",
   "metadata": {},
   "source": [
    "From the plot above, we can see that when item size is relatively small, we can choose the latent dimension equal to 1."
   ]
  },
  {
   "cell_type": "markdown",
   "metadata": {},
   "source": [
    "While we systematically increase the sample size.  \n",
    "Let sample size users  = 20000,items = 1000.  \n",
    "After resample, we get unique items = 869.\n",
    "<img src = 'img/item869.png'>"
   ]
  },
  {
   "cell_type": "markdown",
   "metadata": {},
   "source": [
    "As we see, under different sample size, the best latent dimension we choose may vary, in this case, we choose 2 as our latent dimension."
   ]
  },
  {
   "cell_type": "markdown",
   "metadata": {},
   "source": [
    "### 4.4 Potential Improvement"
   ]
  },
  {
   "cell_type": "markdown",
   "metadata": {},
   "source": [
    "For this model, we only choose svd method as our matrix factorization algorithm. There are many other algorithm we can choose to explore, such as ALS, LightFM, etc.  \n",
    "Besides, we have many side information in the dataset,such as user reviews,play time, which can all be used in our final project.\n"
   ]
  },
  {
   "cell_type": "markdown",
   "metadata": {},
   "source": [
    "## 5. Conclusion\n",
    "### 5.1 Comparison & Objective"
   ]
  },
  {
   "cell_type": "markdown",
   "metadata": {},
   "source": [
    "In this project, we choose KNN and matrix factorization as our model to build a recommender system from scretch without using external packages except numpy,scipy and pandas.  \n",
    "From the result, we can see that KNN performs well under a small dataset with high performance while matrix factorization model shows a better result on recall rate and better running time.  \n",
    "Recall that our goal is to recommmend steam games to users, We can derive this goal into two parts that can be tackled with these two algorithm.    \n",
    "First, Users like you also plays games. In this case, since we explored the similarity between two users, we can confidently recommmend the games to users by KNN.  \n",
    "Second, if a user paticularly like a genre of game, we can use matrix factorization method since we can explore the latent genre of games in a latent dimension."
   ]
  },
  {
   "cell_type": "markdown",
   "metadata": {},
   "source": [
    "### 5.2 Potential Problem & Improvement\n",
    "**Problems:**    \n",
    "We sample data intuitively. Followed up, we simply choose a random subset of large dataset. While in this setting, some games can never be recommended.    \n",
    "**Improvement:**  \n",
    "For KNN model, we can try different ways to define similarity and item-based KNN instead.  \n",
    "For matrix factorizaiton model, we can try different models, such as LightFM, ALS and use other package like Spark which can accelerate the speed of factorization.  \n",
    "Futhermore, we have side information in the dataset such as users reviews, playtime_forever, playtime_2weeks. With these information, we can develop a more personalized system.  "
   ]
  }
 ],
 "metadata": {
  "author": "mes",
  "hide_input": false,
  "kernelspec": {
   "display_name": "Python 3",
   "language": "python",
   "name": "python3"
  },
  "language_info": {
   "codemirror_mode": {
    "name": "ipython",
    "version": 3
   },
   "file_extension": ".py",
   "mimetype": "text/x-python",
   "name": "python",
   "nbconvert_exporter": "python",
   "pygments_lexer": "ipython3",
   "version": "3.6.4"
  },
  "latex_envs": {
   "LaTeX_envs_menu_present": true,
   "autoclose": false,
   "autocomplete": true,
   "bibliofile": "biblio.bib",
   "cite_by": "apalike",
   "current_citInitial": 1,
   "eqLabelWithNumbers": true,
   "eqNumInitial": 1,
   "hotkeys": {
    "equation": "Ctrl-E",
    "itemize": "Ctrl-I"
   },
   "labels_anchors": false,
   "latex_user_defs": false,
   "report_style_numbering": false,
   "user_envs_cfg": false
  },
  "nbTranslate": {
   "displayLangs": [
    "*"
   ],
   "hotkey": "alt-t",
   "langInMainMenu": true,
   "sourceLang": "en",
   "targetLang": "fr",
   "useGoogleTranslate": true
  },
  "toc": {
   "base_numbering": 1,
   "nav_menu": {},
   "number_sections": true,
   "sideBar": true,
   "skip_h1_title": false,
   "title_cell": "Table of Contents",
   "title_sidebar": "Contents",
   "toc_cell": false,
   "toc_position": {},
   "toc_section_display": true,
   "toc_window_display": false
  },
  "varInspector": {
   "cols": {
    "lenName": 16,
    "lenType": 16,
    "lenVar": 40
   },
   "kernels_config": {
    "python": {
     "delete_cmd_postfix": "",
     "delete_cmd_prefix": "del ",
     "library": "var_list.py",
     "varRefreshCmd": "print(var_dic_list())"
    },
    "r": {
     "delete_cmd_postfix": ") ",
     "delete_cmd_prefix": "rm(",
     "library": "var_list.r",
     "varRefreshCmd": "cat(var_dic_list()) "
    }
   },
   "types_to_exclude": [
    "module",
    "function",
    "builtin_function_or_method",
    "instance",
    "_Feature"
   ],
   "window_display": false
  }
 },
 "nbformat": 4,
 "nbformat_minor": 2
}
