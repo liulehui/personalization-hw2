{
 "cells": [
  {
   "cell_type": "code",
   "execution_count": 1,
   "metadata": {},
   "outputs": [],
   "source": [
    "import json\n",
    "import ast\n",
    "import pandas as pd\n",
    "import numpy as np\n",
    "import scipy as sp"
   ]
  },
  {
   "cell_type": "code",
   "execution_count": 2,
   "metadata": {},
   "outputs": [],
   "source": [
    "def parse(path):\n",
    "  g = open(path, 'r')\n",
    "  for l in g:\n",
    "    yield eval(l)"
   ]
  },
  {
   "cell_type": "code",
   "execution_count": 3,
   "metadata": {},
   "outputs": [
    {
     "name": "stdout",
     "output_type": "stream",
     "text": [
      "10000\n",
      "20000\n",
      "30000\n",
      "40000\n",
      "50000\n",
      "60000\n",
      "70000\n",
      "80000\n"
     ]
    }
   ],
   "source": [
    "# dct = {'user':[],'item':[],'totaltime':[],'twoweektime':[]} \n",
    "data = []\n",
    "counter = 0\n",
    "for i in parse(\"australian_users_items.json\"):\n",
    "    dump = json.dumps(i)   \n",
    "    load = json.loads(dump)\n",
    "    counter += 1\n",
    "    if counter%10000 == 0:\n",
    "        print(counter)\n",
    "    for i in range(load['items_count']):\n",
    "        observation = [load['steam_id'],load['items'][i]['item_id'],load['items'][i]['playtime_forever'],load['items'][i]['playtime_2weeks'],1]\n",
    "        data.append(observation)\n"
   ]
  },
  {
   "cell_type": "code",
   "execution_count": 4,
   "metadata": {},
   "outputs": [
    {
     "data": {
      "text/html": [
       "<div>\n",
       "<style scoped>\n",
       "    .dataframe tbody tr th:only-of-type {\n",
       "        vertical-align: middle;\n",
       "    }\n",
       "\n",
       "    .dataframe tbody tr th {\n",
       "        vertical-align: top;\n",
       "    }\n",
       "\n",
       "    .dataframe thead th {\n",
       "        text-align: right;\n",
       "    }\n",
       "</style>\n",
       "<table border=\"1\" class=\"dataframe\">\n",
       "  <thead>\n",
       "    <tr style=\"text-align: right;\">\n",
       "      <th></th>\n",
       "      <th>playtime_forever</th>\n",
       "      <th>playtime_2weeks</th>\n",
       "      <th>isplayd</th>\n",
       "    </tr>\n",
       "  </thead>\n",
       "  <tbody>\n",
       "    <tr>\n",
       "      <th>count</th>\n",
       "      <td>5.153209e+06</td>\n",
       "      <td>5.153209e+06</td>\n",
       "      <td>5153209.0</td>\n",
       "    </tr>\n",
       "    <tr>\n",
       "      <th>mean</th>\n",
       "      <td>9.914951e+02</td>\n",
       "      <td>9.104707e+00</td>\n",
       "      <td>1.0</td>\n",
       "    </tr>\n",
       "    <tr>\n",
       "      <th>std</th>\n",
       "      <td>5.418204e+03</td>\n",
       "      <td>1.403926e+02</td>\n",
       "      <td>0.0</td>\n",
       "    </tr>\n",
       "    <tr>\n",
       "      <th>min</th>\n",
       "      <td>0.000000e+00</td>\n",
       "      <td>0.000000e+00</td>\n",
       "      <td>1.0</td>\n",
       "    </tr>\n",
       "    <tr>\n",
       "      <th>25%</th>\n",
       "      <td>0.000000e+00</td>\n",
       "      <td>0.000000e+00</td>\n",
       "      <td>1.0</td>\n",
       "    </tr>\n",
       "    <tr>\n",
       "      <th>50%</th>\n",
       "      <td>3.400000e+01</td>\n",
       "      <td>0.000000e+00</td>\n",
       "      <td>1.0</td>\n",
       "    </tr>\n",
       "    <tr>\n",
       "      <th>75%</th>\n",
       "      <td>3.550000e+02</td>\n",
       "      <td>0.000000e+00</td>\n",
       "      <td>1.0</td>\n",
       "    </tr>\n",
       "    <tr>\n",
       "      <th>max</th>\n",
       "      <td>6.427730e+05</td>\n",
       "      <td>1.996700e+04</td>\n",
       "      <td>1.0</td>\n",
       "    </tr>\n",
       "  </tbody>\n",
       "</table>\n",
       "</div>"
      ],
      "text/plain": [
       "       playtime_forever  playtime_2weeks    isplayd\n",
       "count      5.153209e+06     5.153209e+06  5153209.0\n",
       "mean       9.914951e+02     9.104707e+00        1.0\n",
       "std        5.418204e+03     1.403926e+02        0.0\n",
       "min        0.000000e+00     0.000000e+00        1.0\n",
       "25%        0.000000e+00     0.000000e+00        1.0\n",
       "50%        3.400000e+01     0.000000e+00        1.0\n",
       "75%        3.550000e+02     0.000000e+00        1.0\n",
       "max        6.427730e+05     1.996700e+04        1.0"
      ]
     },
     "execution_count": 4,
     "metadata": {},
     "output_type": "execute_result"
    }
   ],
   "source": [
    "df = pd.DataFrame(data)\n",
    "df.columns = ['steam_id', 'item_id','playtime_forever','playtime_2weeks','isplayd']\n",
    "df.describe()"
   ]
  },
  {
   "cell_type": "code",
   "execution_count": 6,
   "metadata": {},
   "outputs": [],
   "source": [
    "# user_id = pd.factorize(df.steam_id)\n",
    "# item_index = pd.factorize(df.item_id)\n",
    "# steamid2userid = dict(zip(user_id[0],df.steam_id))\n",
    "# itemid2itemindex = dict(zip(item_index[0],df.item_id))\n",
    "# df['user_id'] = user_id[0]\n",
    "# df['item_index'] = item_index[0]\n",
    "# print(len(df.user_id.unique()))\n",
    "# print(len(df.item_index.unique()))\n",
    "# df.head()\n",
    "df.to_pickle('user_item.pkl')"
   ]
  },
  {
   "cell_type": "markdown",
   "metadata": {},
   "source": [
    "# Sample the data"
   ]
  },
  {
   "cell_type": "code",
   "execution_count": 104,
   "metadata": {},
   "outputs": [
    {
     "name": "stdout",
     "output_type": "stream",
     "text": [
      "10692\n",
      "130\n"
     ]
    }
   ],
   "source": [
    "# first we select 10000 user from a total of 70912 users\n",
    "np.random.seed(200)\n",
    "usersize = 20000\n",
    "itemsize = 150\n",
    "mypercent = 1\n",
    "user_sample=np.random.choice(df.steam_id.unique(),replace=False,size=usersize)\n",
    "item_sample = np.random.choice(df.item_id.unique(),replace = False,size = itemsize)\n",
    "df_sample = df[df['steam_id'].isin(user_sample)]\n",
    "df_sample = df_sample[df_sample['item_id'].isin(item_sample)]\n",
    "# then we sample 70% user item pairs base on user\n",
    "df_sample=df_sample.groupby('steam_id').apply(lambda x: x.sample(int(len(x)*mypercent),random_state=100)).copy().reset_index(drop=True)\n",
    "\n",
    "df_sample = df_sample[['steam_id','item_id','isplayd']]\n",
    "\n",
    "# since in a matrix factorization algorithm, we can not recommand outside of the item list,and first we want to make a mapping\n",
    "user_id = pd.factorize(df_sample.steam_id)\n",
    "item_index = pd.factorize(df_sample.item_id)\n",
    "steamid2userid = dict(zip(user_id[0],df_sample.steam_id))\n",
    "itemid2itemindex = dict(zip(item_index[0],df_sample.item_id))\n",
    "df_sample['user_id'] = user_id[0]\n",
    "df_sample['item_index'] = item_index[0]\n",
    "print(len(df_sample.user_id.unique()))\n",
    "print(len(df_sample.item_index.unique()))\n",
    "#df_sample.head(n=20)\n",
    "# df_sample.sort_values(by = ['user_id','item_insamples'])"
   ]
  },
  {
   "cell_type": "code",
   "execution_count": 105,
   "metadata": {},
   "outputs": [
    {
     "name": "stdout",
     "output_type": "stream",
     "text": [
      "10692\n",
      "130\n"
     ]
    }
   ],
   "source": [
    "df_sample = df_sample[['user_id','item_index','isplayd']]\n",
    "print(len(df_sample['user_id'].unique().tolist()))\n",
    "print(len(df_sample['item_index'].unique().tolist()))"
   ]
  },
  {
   "cell_type": "markdown",
   "metadata": {},
   "source": [
    "# Convert the user_item pair into sparse matrix"
   ]
  },
  {
   "cell_type": "code",
   "execution_count": 106,
   "metadata": {},
   "outputs": [],
   "source": [
    "from scipy.sparse import coo_matrix\n",
    "from scipy.sparse.linalg import svds\n",
    "df_sample['user_id'] = df_sample['user_id'].astype(\"category\")\n",
    "df_sample['item_index'] = df_sample['item_index'].astype(\"category\")"
   ]
  },
  {
   "cell_type": "code",
   "execution_count": 107,
   "metadata": {},
   "outputs": [],
   "source": [
    "user_item_isplayd = coo_matrix((df_sample['isplayd'].astype(float), \n",
    "                   (df_sample['user_id'].cat.codes, \n",
    "                    df_sample['item_index'].cat.codes)))"
   ]
  },
  {
   "cell_type": "code",
   "execution_count": 108,
   "metadata": {},
   "outputs": [
    {
     "data": {
      "text/plain": [
       "<10692x130 sparse matrix of type '<class 'numpy.float64'>'\n",
       "\twith 26592 stored elements in COOrdinate format>"
      ]
     },
     "execution_count": 108,
     "metadata": {},
     "output_type": "execute_result"
    }
   ],
   "source": [
    "user_item_isplayd"
   ]
  },
  {
   "cell_type": "code",
   "execution_count": 109,
   "metadata": {},
   "outputs": [
    {
     "data": {
      "text/plain": [
       "(array([ 0,  2,  3,  4,  5,  6,  7,  8,  9, 10, 11, 12, 13, 14, 15, 16, 17,\n",
       "        18, 19, 20, 21, 22, 23, 24, 25]),)"
      ]
     },
     "execution_count": 109,
     "metadata": {},
     "output_type": "execute_result"
    }
   ],
   "source": [
    "# check if the sparse matrix matches our expection\n",
    "# i.e. every row has nonzero entrances corresponds to one user's all the buyed-itemes\n",
    "user_item_isplayd_matrix = user_item_isplayd.toarray()\n",
    "np.nonzero(user_item_isplayd_matrix[4])"
   ]
  },
  {
   "cell_type": "code",
   "execution_count": 110,
   "metadata": {},
   "outputs": [],
   "source": [
    "# hyper-parameter\n",
    "# latent dimension of matrix factorization\n",
    "latent_dimension = 50\n",
    "user_factors, _, item_factors = svds(user_item_isplayd, latent_dimension)"
   ]
  },
  {
   "cell_type": "code",
   "execution_count": 111,
   "metadata": {},
   "outputs": [
    {
     "name": "stdout",
     "output_type": "stream",
     "text": [
      "(50, 130)\n",
      "(10692, 50)\n"
     ]
    }
   ],
   "source": [
    "print(item_factors.shape)\n",
    "print(user_factors.shape)"
   ]
  },
  {
   "cell_type": "code",
   "execution_count": 112,
   "metadata": {},
   "outputs": [],
   "source": [
    "# a = np.asmatrix(user_factors[4])\n",
    "# a.shape"
   ]
  },
  {
   "cell_type": "code",
   "execution_count": 113,
   "metadata": {},
   "outputs": [],
   "source": [
    "# b = np.dot(a,item_factors)\n",
    "# print(b.shape)\n",
    "# b"
   ]
  },
  {
   "cell_type": "code",
   "execution_count": 114,
   "metadata": {},
   "outputs": [],
   "source": [
    "# choose the top 20 score of the items\n",
    "# c = np.array(b)\n",
    "# c = set(c.argsort().ravel()[-20:][::-1])\n",
    "# c"
   ]
  },
  {
   "cell_type": "markdown",
   "metadata": {},
   "source": [
    "# cross-validation set up"
   ]
  },
  {
   "cell_type": "code",
   "execution_count": 115,
   "metadata": {},
   "outputs": [],
   "source": [
    "# df_sample.head()"
   ]
  },
  {
   "cell_type": "code",
   "execution_count": 124,
   "metadata": {},
   "outputs": [],
   "source": [
    "# for this project, I choose to implement a 5-fold cross validation \n",
    "seed = 4571\n",
    "np.random.seed(seed)\n",
    "# in all the df_sample, choose 90% for training, leave 10% for testing\n",
    "df_train,df_test = np.split(df_sample.sample(frac=1),[int(.9*len(df_sample))])\n",
    "m = len(df_train.index)\n",
    "df_train_1,df_train_2,df_train_3,df_train_4,df_train_5 = np.split(df_train.sample(frac=1), [int(.2*m),int(.4*m),int(.6*m),int(0.8*m)])\n",
    "validation_list = [df_train_1,df_train_2,df_train_3,df_train_4,df_train_5]"
   ]
  },
  {
   "cell_type": "markdown",
   "metadata": {},
   "source": [
    "# Evaluation( recall&precision )"
   ]
  },
  {
   "cell_type": "code",
   "execution_count": 141,
   "metadata": {},
   "outputs": [],
   "source": [
    "def getmetrics(train,validation,latent_dimension=50):\n",
    "    user_item_isplayd_train = coo_matrix((train['isplayd'].astype('float'), \n",
    "                   (train['user_id'].cat.codes, \n",
    "                    train['item_index'].cat.codes)))\n",
    "    user_item_isplayd_train_matrix = user_item_isplayd_train.toarray()\n",
    "    user_factors_train, _, item_factors_train = svds(user_item_isplayd_train, latent_dimension)\n",
    "    recall = 0\n",
    "    precision = 0\n",
    "    users_validation = set(validation.user_id.unique())\n",
    "    total = len(users_validation)\n",
    "    for i in users_validation:\n",
    "    \n",
    "        a = np.asmatrix(user_factors_train[i])\n",
    "        b = np.dot(a,item_factors_train)\n",
    "        c = np.array(b)\n",
    "        predict_i = set(c.argsort().ravel()[-10:][::-1]) #set of t recommended items for a user\n",
    "        G_1 = set(np.flatnonzero(user_item_isplayd_matrix[i]).tolist()) # all the items related to the user\n",
    "        G_2 = set(np.flatnonzero(user_item_isplayd_train_matrix[i]).tolist()) # all the items related to the user in trainset\n",
    "    #     print(i)\n",
    "        S = predict_i.difference(G_2) # relevant items in test set\n",
    "        G = G_1.difference(G_2)\n",
    "        recall_i = len(G.intersection(S))/len(G)\n",
    "        if len(S) != 0:\n",
    "            precision_i = len(G.intersection(S))/len(S)\n",
    "        else:\n",
    "            precision_i = 1\n",
    "        recall += recall_i\n",
    "        precision += precision_i\n",
    "\n",
    "#     print(recall/total)\n",
    "#     print(precision/total)\n",
    "    return recall/total,precision/total"
   ]
  },
  {
   "cell_type": "code",
   "execution_count": 142,
   "metadata": {},
   "outputs": [],
   "source": [
    "recalls = []\n",
    "precisions = []\n",
    "for i in range(5):\n",
    "    validation_df = validation_list[i]\n",
    "    train_df = df_train.append(validation_list[i]).drop_duplicates(keep=False)\n",
    "    # since in a matrix factorization algorithm, we can not have user who do not have any training data   \n",
    "#     train_df['user_id'] = train_df['user_id'].astype(\"category\")\n",
    "#     train_df['item_index'] = train_df['item_index'].astype(\"category\")\n",
    "    \n",
    "    # data cleaning,make sure that validation set do not have entrys beyond the sparse matrix\n",
    "    users = set(train_df.user_id.unique())\n",
    "    items = set(train_df.item_index.unique())\n",
    "    # print(len(users))\n",
    "    # print(len(items))\n",
    "    # print(df_test.count())\n",
    "    validation_df = validation_df[validation_df['user_id'].isin(users)]\n",
    "    validation_df = validation_df[validation_df['item_index'].isin(items)]\n",
    "    # print(df_test.count())\n",
    "\n",
    "    user_item_isplayd_train = coo_matrix((train_df['isplayd'].astype(float), \n",
    "                   (train_df['user_id'].cat.codes, \n",
    "                    train_df['item_index'].cat.codes)))\n",
    "    recall, precision = getmetrics(train_df,validation_df,50)\n",
    "    recalls.append(recall)\n",
    "    precisions.append(precision)"
   ]
  },
  {
   "cell_type": "code",
   "execution_count": 143,
   "metadata": {},
   "outputs": [
    {
     "name": "stdout",
     "output_type": "stream",
     "text": [
      "0.0137831935728684\n",
      "0.022083985637854586\n"
     ]
    }
   ],
   "source": [
    "print(np.mean(recalls))\n",
    "print(np.mean(precisions))"
   ]
  },
  {
   "cell_type": "markdown",
   "metadata": {},
   "source": [
    "# Hyper parameters\n",
    "In this matrix factorization problem, the main hyper parameter is the latent dimension.  \n",
    "I choose a list of (1,2,3,4,5,6,7,8,9,10,15,20) for the svd method."
   ]
  },
  {
   "cell_type": "code",
   "execution_count": 144,
   "metadata": {},
   "outputs": [
    {
     "name": "stdout",
     "output_type": "stream",
     "text": [
      "0.7010563940044297\n",
      "0.13612468889455362\n",
      "0.5740492206110036\n",
      "0.11330290336208124\n",
      "0.5304597613719414\n",
      "0.10915434475562139\n",
      "0.3672669685993041\n",
      "0.08209287804639505\n",
      "0.3454686708867595\n",
      "0.07899514422260219\n",
      "0.31284674332376433\n",
      "0.07458735348374676\n",
      "0.2960959936372728\n",
      "0.0722502748704732\n",
      "0.26009849425663434\n",
      "0.06581213868877209\n",
      "0.22463246997642652\n",
      "0.05848411889207711\n",
      "0.20310968182474465\n",
      "0.05372466907724479\n",
      "0.060333401748891236\n",
      "0.020735017565034933\n",
      "0.04402783744715059\n",
      "0.019639372966563838\n"
     ]
    }
   ],
   "source": [
    "latent_dimensions = [1,2,3,4,5,6,7,8,9,10,15,20]\n",
    "recalls = []\n",
    "precisions = []\n",
    "\n",
    "for latent_dimension in latent_dimensions:\n",
    "    recalls_within = 0\n",
    "    precisions_within = 0\n",
    "    for i in range(5):\n",
    "        validation_df = validation_list[i]\n",
    "        train_df = df_train.append(validation_list[i]).drop_duplicates(keep=False)\n",
    "        # since in a matrix factorization algorithm, we can not have user who do not have any training data   \n",
    "        # data cleaning,make sure that validation set do not have entrys beyond the sparse matrix\n",
    "        users = set(train_df.user_id.unique())\n",
    "        items = set(train_df.item_index.unique())\n",
    "\n",
    "        validation_df = validation_df[validation_df['user_id'].isin(users)]\n",
    "        validation_df = validation_df[validation_df['item_index'].isin(items)]\n",
    "    \n",
    "\n",
    "        user_item_isplayd_train = coo_matrix((train_df['isplayd'].astype(float), (train_df['user_id'].cat.codes, train_df['item_index'].cat.codes)))\n",
    "\n",
    "\n",
    "        recall, precision = getmetrics(train_df,validation_df,latent_dimension)\n",
    "        recalls_within += recall\n",
    "        precisions_within += precision\n",
    "    \n",
    "    recalls_within = recalls_within/5\n",
    "    precisions_within = precisions_within/5\n",
    "    print(recalls_within)\n",
    "    print(precisions_within)\n",
    "    \n",
    "    recalls.append(recalls_within)\n",
    "    precisions.append(precisions_within)\n",
    "    \n"
   ]
  },
  {
   "cell_type": "code",
   "execution_count": 145,
   "metadata": {},
   "outputs": [
    {
     "name": "stdout",
     "output_type": "stream",
     "text": [
      "[0.7010563940044297, 0.5740492206110036, 0.5304597613719414, 0.3672669685993041, 0.3454686708867595, 0.31284674332376433, 0.2960959936372728, 0.26009849425663434, 0.22463246997642652, 0.20310968182474465, 0.060333401748891236, 0.04402783744715059]\n",
      "[0.13612468889455362, 0.11330290336208124, 0.10915434475562139, 0.08209287804639505, 0.07899514422260219, 0.07458735348374676, 0.0722502748704732, 0.06581213868877209, 0.05848411889207711, 0.05372466907724479, 0.020735017565034933, 0.019639372966563838]\n"
     ]
    }
   ],
   "source": [
    "print(recalls)\n",
    "print(precisions)"
   ]
  },
  {
   "cell_type": "code",
   "execution_count": 146,
   "metadata": {},
   "outputs": [
    {
     "data": {
      "image/png": "[encoded data removed]",
      "text/plain": [
       "<matplotlib.figure.Figure at 0x15159a860>"
      ]
     },
     "metadata": {},
     "output_type": "display_data"
    }
   ],
   "source": [
    "%matplotlib inline\n",
    "import matplotlib.pyplot as plt\n",
    "plt.plot(recalls)\n",
    "plt.ylabel('Recall')\n",
    "plt.show()"
   ]
  },
  {
   "cell_type": "code",
   "execution_count": 147,
   "metadata": {},
   "outputs": [
    {
     "data": {
      "image/png": "[encoded data removed]",
      "text/plain": [
       "<matplotlib.figure.Figure at 0x15c786860>"
      ]
     },
     "metadata": {},
     "output_type": "display_data"
    }
   ],
   "source": [
    "%matplotlib inline\n",
    "import matplotlib.pyplot as plt\n",
    "plt.plot(precisions)\n",
    "plt.ylabel('precisions')\n",
    "plt.show()"
   ]
  },
  {
   "cell_type": "markdown",
   "metadata": {},
   "source": [
    "during test, our model performs the best when latent_parameter = 2"
   ]
  },
  {
   "cell_type": "code",
   "execution_count": null,
   "metadata": {},
   "outputs": [],
   "source": []
  }
 ],
 "metadata": {
  "kernelspec": {
   "display_name": "Python 3",
   "language": "python",
   "name": "python3"
  },
  "language_info": {
   "codemirror_mode": {
    "name": "ipython",
    "version": 3
   },
   "file_extension": ".py",
   "mimetype": "text/x-python",
   "name": "python",
   "nbconvert_exporter": "python",
   "pygments_lexer": "ipython3",
   "version": "3.6.4"
  }
 },
 "nbformat": 4,
 "nbformat_minor": 2
}
